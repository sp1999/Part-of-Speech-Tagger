{
 "cells": [
  {
   "cell_type": "code",
   "execution_count": 1,
   "metadata": {},
   "outputs": [],
   "source": [
    "import nltk\n",
    "import time\n",
    "import numpy as np\n",
    "import pandas as pd\n",
    "import seaborn as sns\n",
    "import matplotlib.pyplot as plt\n",
    "from sklearn.model_selection import train_test_split, KFold\n",
    "from nltk.corpus import brown\n",
    "from tqdm import tqdm"
   ]
  },
  {
   "cell_type": "code",
   "execution_count": 2,
   "metadata": {},
   "outputs": [],
   "source": [
    "# datastructure for storing the id and val mapping\n",
    "class unique_dict:\n",
    "    def __init__(self):\n",
    "        self.id = 0\n",
    "        self.id2val = dict()\n",
    "        self.val2id = dict()\n",
    "        self.vals = set()\n",
    "        \n",
    "    def get_length(self):\n",
    "        return self.id\n",
    "    \n",
    "    def store(self, val):\n",
    "        self.id2val[self.id] = val\n",
    "        self.val2id[val] = self.id\n",
    "        self.vals.add(val)\n",
    "        self.id += 1\n",
    "    \n",
    "    def fetch(self, key, by='id'):\n",
    "        if by == 'id':\n",
    "            return self.id2val[key]\n",
    "        elif key in self.vals:\n",
    "            return self.val2id[key]\n",
    "        else:\n",
    "            return None\n",
    "        \n",
    "unknown_prob =  0.000001"
   ]
  },
  {
   "cell_type": "code",
   "execution_count": 3,
   "metadata": {},
   "outputs": [],
   "source": [
    "# splitting the corpus into two for now\n",
    "train_corpus, test_corpus = train_test_split(brown.tagged_sents(tagset='universal'), test_size=0.2)"
   ]
  },
  {
   "cell_type": "code",
   "execution_count": 4,
   "metadata": {},
   "outputs": [],
   "source": [
    "'''\n",
    "    training functions\n",
    "'''\n",
    "\n",
    "def generate_unique_words(train_corpus):\n",
    "    words = unique_dict()\n",
    "    \n",
    "    for tagged_sent in train_corpus:\n",
    "        for (word, tag) in tagged_sent:\n",
    "            if words.fetch(word.lower(), 'val') == None:\n",
    "                words.store(word.lower())\n",
    "\n",
    "    return words\n",
    "\n",
    "def generate_unique_tags():\n",
    "    tagset = set([tag for [word, tag] in brown.tagged_words(tagset='universal')])\n",
    "    tags = unique_dict()\n",
    "    \n",
    "    for tag in tagset:\n",
    "        if tags.fetch(tag, 'val') == None:\n",
    "            tags.store(tag)\n",
    "    \n",
    "    return tags\n",
    "\n",
    "'''\n",
    "    Generates three useful matrices\n",
    "    transition matrix for the tags\n",
    "    emission matrix for the tag and word\n",
    "    probability of occurence vector for tags\n",
    "'''\n",
    "def generate_useful_matrices(train_corpus, words, tags, unknown_prob= 0.0000001):\n",
    "    cond_prob_tags = np.zeros([tags.id, tags.id])\n",
    "    cond_prob_tag_word = np.zeros([tags.id, words.id])\n",
    "    prob_tags = np.zeros([tags.id])\n",
    "    \n",
    "    tic = time.time()\n",
    "    for tagged_sent in train_corpus:\n",
    "        for index in range(len(tagged_sent)):\n",
    "            word = tagged_sent[index][0]\n",
    "            tag = tagged_sent[index][1]\n",
    "            \n",
    "            word_id = words.fetch(word.lower(), 'val')\n",
    "            tag_id = tags.fetch(tag, 'val')\n",
    "            \n",
    "            prob_tags[tag_id] += 1\n",
    "            cond_prob_tag_word[tag_id, word_id] += 1\n",
    "            if index != len(tagged_sent) - 1:\n",
    "                next_tag_id = tags.fetch(tagged_sent[index + 1][1], 'val')\n",
    "                cond_prob_tags[tag_id, next_tag_id] += 1\n",
    "    toc = time.time()\n",
    "    print('Time elapsed for frequency computation:', toc - tic)\n",
    "    \n",
    "    tic = time.time()\n",
    "    cond_prob_tags = np.divide(cond_prob_tags, np.reshape(prob_tags, [-1, 1]) + np.reshape(prob_tags == 0, [-1, 1]))\n",
    "    cond_prob_tag_word = np.divide(cond_prob_tag_word, np.reshape(prob_tags, [-1, 1]) + np.reshape(prob_tags == 0, [-1, 1]))\n",
    "    prob_tags = np.divide(prob_tags, np.sum(prob_tags))\n",
    "    toc = time.time()\n",
    "    print('Time elapsed for normalization:', toc - tic)\n",
    "    \n",
    "    # handling zero prob cases\n",
    "    cond_prob_tags[cond_prob_tags == 0] = unknown_prob\n",
    "    cond_prob_tag_word[cond_prob_tag_word == 0] = unknown_prob\n",
    "    prob_tags[prob_tags == 0] = unknown_prob\n",
    "    \n",
    "    return cond_prob_tags, cond_prob_tag_word, prob_tags"
   ]
  },
  {
   "cell_type": "code",
   "execution_count": 5,
   "metadata": {},
   "outputs": [],
   "source": [
    "# finding the words from the training corpus and obtaining overall tags\n",
    "words = generate_unique_words(train_corpus)\n",
    "tags = generate_unique_tags()"
   ]
  },
  {
   "cell_type": "code",
   "execution_count": 6,
   "metadata": {},
   "outputs": [
    {
     "name": "stdout",
     "output_type": "stream",
     "text": [
      "Time elapsed for frequency computation: 8.129273176193237\n",
      "Time elapsed for normalization: 0.00598454475402832\n"
     ]
    }
   ],
   "source": [
    "cond_prob_tags, cond_prob_tag_word, prob_tags = generate_useful_matrices(train_corpus, words, tags)"
   ]
  },
  {
   "cell_type": "code",
   "execution_count": 7,
   "metadata": {},
   "outputs": [],
   "source": [
    "'''\n",
    "    Testing utils\n",
    "'''\n",
    "\n",
    "# vitterbi algorithm\n",
    "def assign_pos(token_list, cond_prob_tags, cond_prob_tag_word, prob_tags, words, tags, unknown_prob=0.0000001):\n",
    "    if len(token_list) == 0:\n",
    "        return []\n",
    "    \n",
    "    score_matrix = np.zeros([tags.id, len(token_list)])\n",
    "    back_pointer = np.zeros([tags.id, len(token_list)])\n",
    "    \n",
    "    # intialization\n",
    "    word_id = words.fetch(token_list[0].lower(), 'val')\n",
    "    for i in range(tags.id):\n",
    "        if word_id == None:\n",
    "            score_matrix[i, 0] = prob_tags[i] * unknown_prob\n",
    "        else:\n",
    "            score_matrix[i, 0] = prob_tags[i] * cond_prob_tag_word[i, word_id]\n",
    "        back_pointer[i, 0] = -1;\n",
    "            \n",
    "    # Iteration Step\n",
    "    for t in range(len(token_list)):\n",
    "        if t != 0:\n",
    "            for i in range(tags.id):\n",
    "                word_id = words.fetch(token_list[t].lower(), 'val')\n",
    "                total_transition_vector = np.multiply(score_matrix[:, t - 1], cond_prob_tags[:, i])\n",
    "                arg_tag_max = np.argmax(total_transition_vector)\n",
    "                back_pointer[i, t] = arg_tag_max\n",
    "                if word_id == None:\n",
    "                    score_matrix[i, t] = total_transition_vector[arg_tag_max] * unknown_prob\n",
    "                else:\n",
    "                    score_matrix[i, t] = total_transition_vector[arg_tag_max] * cond_prob_tag_word[i, word_id]\n",
    "                    \n",
    "    # sequence identification\n",
    "    tag_index = np.zeros([len(token_list)])\n",
    "    tag_index[-1] = np.argmax(score_matrix[:, len(token_list) - 1])\n",
    "    for i in reversed(range(len(token_list) - 1)):\n",
    "        tag_index[i] = back_pointer[int(tag_index[i + 1]), int(i + 1)]\n",
    "    return [tags.fetch(index, 'id') for index in tag_index]\n",
    "\n",
    "# function for analysing testing data\n",
    "def analyze_test_data(test_corpus, cond_prob_tags, cond_prob_tag_word, prob_tags, words, tags, unknown_prob=0.000001):\n",
    "    confusion_matrix = np.zeros([tags.id, tags.id], dtype=np.int32)\n",
    "    \n",
    "    for test_sent_tagged in tqdm(test_corpus):\n",
    "        test_tag_list = [item[1] for item in test_sent_tagged]\n",
    "        test_token_list = [item[0] for item in test_sent_tagged]\n",
    "        \n",
    "        predicted_tag_list = assign_pos(test_token_list, cond_prob_tags, cond_prob_tag_word, prob_tags, words, tags, unknown_prob)\n",
    "        for (predicted_tag, test_tag) in zip(predicted_tag_list, test_tag_list):\n",
    "            confusion_matrix[tags.fetch(predicted_tag, 'val'), tags.fetch(test_tag, 'val')] += 1\n",
    "            \n",
    "    return confusion_matrix\n",
    "\n",
    "# function which does cross validation analysis by generating confusion matrix\n",
    "def hmm_confusion(unknown_prob=0.0000001):\n",
    "    tags = generate_unique_tags()\n",
    "    confusion_matrix_train = np.zeros([tags.id, tags.id], dtype=np.int32)\n",
    "    confusion_matrix_test = np.zeros([tags.id, tags.id], dtype=np.int32)\n",
    "    tag_histogram = np.zeros([tags.id], dtype=np.float32)\n",
    "    corpus = np.array(brown.tagged_sents(tagset='universal'))\n",
    "    kf = KFold(n_splits=5, shuffle=True)\n",
    "    kf.get_n_splits(corpus)\n",
    "    \n",
    "    for train_index, test_index in kf.split(corpus):\n",
    "        train_corpus = corpus[train_index]\n",
    "        test_corpus = corpus[test_index]\n",
    "        print('training size:', len(train_index))\n",
    "        print('testing size:', len(test_index))\n",
    "        words = generate_unique_words(train_corpus)\n",
    "        cond_prob_tags, cond_prob_tag_word, prob_tags = generate_useful_matrices(train_corpus, words, tags, unknown_prob)\n",
    "        tag_histogram += prob_tags\n",
    "        confusion_matrix_test += analyze_test_data(test_corpus, cond_prob_tags, cond_prob_tag_word, prob_tags, words, tags, unknown_prob)\n",
    "        confusion_matrix_train += analyze_test_data(train_corpus, cond_prob_tags, cond_prob_tag_word, prob_tags, words, tags, unknown_prob)\n",
    "        \n",
    "    tag_histogram /= np.sum(tag_histogram)\n",
    "    return confusion_matrix_train, confusion_matrix_test, tag_histogram\n",
    "\n",
    "# to analyze the confusion matrix (to be tested)\n",
    "def analyze_confusion(confusion_matrix, tag_histogram, tags, data='test'):\n",
    "    \n",
    "    # accuracy computation\n",
    "    total_examples = np.sum(confusion_matrix)\n",
    "    correct_predictions = np.trace(confusion_matrix)\n",
    "    print('The overall accuracy of the hmm model is:', correct_predictions * 100 / total_examples)\n",
    "    \n",
    "    # storing the confusion matrix in the form of csv file\n",
    "    tag_list = [tags.fetch(i, 'id') for i in range(tags.id)]\n",
    "    confusion_df = pd.DataFrame(confusion_matrix, index=tag_list, columns=tag_list)\n",
    "    confusion_df.to_csv('hmm_confusion_matrix_' + data + '.csv')\n",
    "    \n",
    "    # plotting the heat map\n",
    "    plt.figure(figsize = (20, 20))\n",
    "    confusion_figure = sns.heatmap(confusion_matrix, annot=True, xticklabels=tag_list, yticklabels=tag_list)\n",
    "    plt.savefig('hmm_confusion_figure_' + data + '.png')\n",
    "    \n",
    "    # per POS tag statistics\n",
    "    per_pos_dict = {'tag': [], 'precision': [], 'recall': [], 'f1-score': []}\n",
    "    for tag_id in range(tags.id):\n",
    "        per_pos_dict['precision'].append(confusion_matrix[tag_id, tag_id] / np.sum(confusion_matrix[tag_id, :]))\n",
    "        per_pos_dict['recall'].append(confusion_matrix[tag_id, tag_id] / np.sum(confusion_matrix[:, tag_id]))\n",
    "        per_pos_dict['tag'].append(tags.fetch(tag_id, 'id'))\n",
    "        per_pos_dict['f1-score'].append(2 * per_pos_dict['precision'][tag_id] * per_pos_dict['recall'][tag_id] / (per_pos_dict['recall'][tag_id] + per_pos_dict['precision'][tag_id]))\n",
    "    per_pos_df = pd.DataFrame(per_pos_dict)\n",
    "    per_pos_df.to_csv('hmm_per_pos_accuracy_' + data + '.csv')\n",
    "    \n",
    "    # scatter plot for frequency vs f1-score for every tag\n",
    "    tag_f1_score = np.nan_to_num(per_pos_dict['f1-score'])\n",
    "    plt.figure()\n",
    "    plt.scatter(tag_histogram, tag_f1_score)\n",
    "    plt.title('Relative Frequency vs f1-score scatter plot')\n",
    "    plt.xlabel('Relative Frequency of tag')\n",
    "    plt.ylabel('F1 score')\n",
    "    plt.savefig('hmm_scatter_plot_' + data + '.png')"
   ]
  },
  {
   "cell_type": "code",
   "execution_count": 8,
   "metadata": {},
   "outputs": [
    {
     "data": {
      "text/plain": [
       "['DET', 'ADJ', 'NOUN', 'VERB', 'ADP', 'PRON', 'VERB', 'PRT', 'VERB', '.']"
      ]
     },
     "execution_count": 8,
     "metadata": {},
     "output_type": "execute_result"
    }
   ],
   "source": [
    "test_sent = ['Some', 'newer', 'evidence', 'suggests', 'that', 'you', 'need', 'to', 'sleep', '.']\n",
    "assign_pos(test_sent, cond_prob_tags, cond_prob_tag_word, prob_tags, words, tags)"
   ]
  },
  {
   "cell_type": "code",
   "execution_count": 9,
   "metadata": {},
   "outputs": [
    {
     "name": "stdout",
     "output_type": "stream",
     "text": [
      "training size: 45872\n",
      "testing size: 11468\n"
     ]
    },
    {
     "name": "stderr",
     "output_type": "stream",
     "text": [
      "  0%|          | 23/11468 [00:00<00:52, 219.63it/s]"
     ]
    },
    {
     "name": "stdout",
     "output_type": "stream",
     "text": [
      "Time elapsed for frequency computation: 7.330806732177734\n",
      "Time elapsed for normalization: 0.0049860477447509766\n"
     ]
    },
    {
     "name": "stderr",
     "output_type": "stream",
     "text": [
      "100%|██████████| 11468/11468 [00:38<00:00, 300.25it/s]\n",
      "100%|██████████| 45872/45872 [02:34<00:00, 296.60it/s]\n"
     ]
    },
    {
     "name": "stdout",
     "output_type": "stream",
     "text": [
      "training size: 45872\n",
      "testing size: 11468\n"
     ]
    },
    {
     "name": "stderr",
     "output_type": "stream",
     "text": [
      "  0%|          | 33/11468 [00:00<00:35, 324.40it/s]"
     ]
    },
    {
     "name": "stdout",
     "output_type": "stream",
     "text": [
      "Time elapsed for frequency computation: 6.959397077560425\n",
      "Time elapsed for normalization: 0.003989458084106445\n"
     ]
    },
    {
     "name": "stderr",
     "output_type": "stream",
     "text": [
      "100%|██████████| 11468/11468 [00:40<00:00, 286.31it/s]\n",
      "100%|██████████| 45872/45872 [02:37<00:00, 291.84it/s]\n"
     ]
    },
    {
     "name": "stdout",
     "output_type": "stream",
     "text": [
      "training size: 45872\n",
      "testing size: 11468\n"
     ]
    },
    {
     "name": "stderr",
     "output_type": "stream",
     "text": [
      "  0%|          | 16/11468 [00:00<01:17, 148.60it/s]"
     ]
    },
    {
     "name": "stdout",
     "output_type": "stream",
     "text": [
      "Time elapsed for frequency computation: 7.21514892578125\n",
      "Time elapsed for normalization: 0.003991127014160156\n"
     ]
    },
    {
     "name": "stderr",
     "output_type": "stream",
     "text": [
      "100%|██████████| 11468/11468 [00:38<00:00, 297.17it/s]\n",
      "100%|██████████| 45872/45872 [02:34<00:00, 297.34it/s]\n"
     ]
    },
    {
     "name": "stdout",
     "output_type": "stream",
     "text": [
      "training size: 45872\n",
      "testing size: 11468\n"
     ]
    },
    {
     "name": "stderr",
     "output_type": "stream",
     "text": [
      "  0%|          | 48/11468 [00:00<00:23, 476.53it/s]"
     ]
    },
    {
     "name": "stdout",
     "output_type": "stream",
     "text": [
      "Time elapsed for frequency computation: 7.213718414306641\n",
      "Time elapsed for normalization: 0.003988981246948242\n"
     ]
    },
    {
     "name": "stderr",
     "output_type": "stream",
     "text": [
      "100%|██████████| 11468/11468 [00:39<00:00, 293.40it/s]\n",
      "100%|██████████| 45872/45872 [02:35<00:00, 295.50it/s]\n"
     ]
    },
    {
     "name": "stdout",
     "output_type": "stream",
     "text": [
      "training size: 45872\n",
      "testing size: 11468\n"
     ]
    },
    {
     "name": "stderr",
     "output_type": "stream",
     "text": [
      "  0%|          | 33/11468 [00:00<00:35, 321.24it/s]"
     ]
    },
    {
     "name": "stdout",
     "output_type": "stream",
     "text": [
      "Time elapsed for frequency computation: 6.946638822555542\n",
      "Time elapsed for normalization: 0.003991603851318359\n"
     ]
    },
    {
     "name": "stderr",
     "output_type": "stream",
     "text": [
      "100%|██████████| 11468/11468 [00:38<00:00, 295.71it/s]\n",
      "100%|██████████| 45872/45872 [02:37<00:00, 292.13it/s]\n"
     ]
    }
   ],
   "source": [
    "confusion_matrix_train, confusion_matrix_test, tag_histogram = hmm_confusion()"
   ]
  },
  {
   "cell_type": "code",
   "execution_count": 10,
   "metadata": {},
   "outputs": [
    {
     "name": "stdout",
     "output_type": "stream",
     "text": [
      "The overall accuracy of the hmm model is: 96.00350329661245\n"
     ]
    },
    {
     "data": {
      "image/png": "[encoded data removed]",
      "text/plain": [
       "<Figure size 1440x1440 with 2 Axes>"
      ]
     },
     "metadata": {
      "needs_background": "light"
     },
     "output_type": "display_data"
    },
    {
     "data": {
      "image/png": "[encoded data removed]",
      "text/plain": [
       "<Figure size 432x288 with 1 Axes>"
      ]
     },
     "metadata": {
      "needs_background": "light"
     },
     "output_type": "display_data"
    }
   ],
   "source": [
    "analyze_confusion(confusion_matrix_test, tag_histogram, tags, data='test')"
   ]
  },
  {
   "cell_type": "code",
   "execution_count": 11,
   "metadata": {},
   "outputs": [
    {
     "name": "stdout",
     "output_type": "stream",
     "text": [
      "The overall accuracy of the hmm model is: 97.35054581843485\n"
     ]
    },
    {
     "data": {
      "image/png": "[encoded data removed]",
      "text/plain": [
       "<Figure size 1440x1440 with 2 Axes>"
      ]
     },
     "metadata": {
      "needs_background": "light"
     },
     "output_type": "display_data"
    },
    {
     "data": {
      "image/png": "[encoded data removed]",
      "text/plain": [
       "<Figure size 432x288 with 1 Axes>"
      ]
     },
     "metadata": {
      "needs_background": "light"
     },
     "output_type": "display_data"
    }
   ],
   "source": [
    "analyze_confusion(confusion_matrix_train, tag_histogram, tags, data='train')"
   ]
  },
  {
   "cell_type": "code",
   "execution_count": 8,
   "metadata": {},
   "outputs": [
    {
     "name": "stdout",
     "output_type": "stream",
     "text": [
      "training size: 45872\n",
      "testing size: 11468\n"
     ]
    },
    {
     "name": "stderr",
     "output_type": "stream",
     "text": [
      "  0%|          | 17/11468 [00:00<01:07, 168.77it/s]"
     ]
    },
    {
     "name": "stdout",
     "output_type": "stream",
     "text": [
      "Time elapsed for frequency computation: 5.987990617752075\n",
      "Time elapsed for normalization: 0.003991127014160156\n"
     ]
    },
    {
     "name": "stderr",
     "output_type": "stream",
     "text": [
      "100%|██████████| 11468/11468 [00:32<00:00, 353.02it/s]\n",
      "100%|██████████| 45872/45872 [02:19<00:00, 328.50it/s]\n"
     ]
    },
    {
     "name": "stdout",
     "output_type": "stream",
     "text": [
      "training size: 45872\n",
      "testing size: 11468\n"
     ]
    },
    {
     "name": "stderr",
     "output_type": "stream",
     "text": [
      "  0%|          | 31/11468 [00:00<00:38, 296.03it/s]"
     ]
    },
    {
     "name": "stdout",
     "output_type": "stream",
     "text": [
      "Time elapsed for frequency computation: 7.751271963119507\n",
      "Time elapsed for normalization: 0.007979393005371094\n"
     ]
    },
    {
     "name": "stderr",
     "output_type": "stream",
     "text": [
      "100%|██████████| 11468/11468 [00:40<00:00, 280.93it/s]\n",
      "100%|██████████| 45872/45872 [02:32<00:00, 300.61it/s]\n"
     ]
    },
    {
     "name": "stdout",
     "output_type": "stream",
     "text": [
      "training size: 45872\n",
      "testing size: 11468\n"
     ]
    },
    {
     "name": "stderr",
     "output_type": "stream",
     "text": [
      "  0%|          | 40/11468 [00:00<00:29, 389.39it/s]"
     ]
    },
    {
     "name": "stdout",
     "output_type": "stream",
     "text": [
      "Time elapsed for frequency computation: 5.292847394943237\n",
      "Time elapsed for normalization: 0.00399017333984375\n"
     ]
    },
    {
     "name": "stderr",
     "output_type": "stream",
     "text": [
      "100%|██████████| 11468/11468 [00:34<00:00, 335.94it/s]\n",
      "100%|██████████| 45872/45872 [02:10<00:00, 350.66it/s]\n"
     ]
    },
    {
     "name": "stdout",
     "output_type": "stream",
     "text": [
      "training size: 45872\n",
      "testing size: 11468\n"
     ]
    },
    {
     "name": "stderr",
     "output_type": "stream",
     "text": [
      "  0%|          | 26/11468 [00:00<00:44, 255.58it/s]"
     ]
    },
    {
     "name": "stdout",
     "output_type": "stream",
     "text": [
      "Time elapsed for frequency computation: 5.8683085441589355\n",
      "Time elapsed for normalization: 0.004986286163330078\n"
     ]
    },
    {
     "name": "stderr",
     "output_type": "stream",
     "text": [
      "100%|██████████| 11468/11468 [00:35<00:00, 319.48it/s]\n",
      "100%|██████████| 45872/45872 [02:16<00:00, 336.65it/s]\n"
     ]
    },
    {
     "name": "stdout",
     "output_type": "stream",
     "text": [
      "training size: 45872\n",
      "testing size: 11468\n"
     ]
    },
    {
     "name": "stderr",
     "output_type": "stream",
     "text": [
      "  0%|          | 37/11468 [00:00<00:31, 367.32it/s]"
     ]
    },
    {
     "name": "stdout",
     "output_type": "stream",
     "text": [
      "Time elapsed for frequency computation: 5.802487134933472\n",
      "Time elapsed for normalization: 0.004985332489013672\n"
     ]
    },
    {
     "name": "stderr",
     "output_type": "stream",
     "text": [
      "100%|██████████| 11468/11468 [00:40<00:00, 282.83it/s]\n",
      "100%|██████████| 45872/45872 [02:37<00:00, 291.60it/s]\n"
     ]
    },
    {
     "name": "stdout",
     "output_type": "stream",
     "text": [
      "training size: 45872\n",
      "testing size: 11468\n"
     ]
    },
    {
     "name": "stderr",
     "output_type": "stream",
     "text": [
      "  0%|          | 31/11468 [00:00<00:37, 307.75it/s]"
     ]
    },
    {
     "name": "stdout",
     "output_type": "stream",
     "text": [
      "Time elapsed for frequency computation: 5.6967692375183105\n",
      "Time elapsed for normalization: 0.003988981246948242\n"
     ]
    },
    {
     "name": "stderr",
     "output_type": "stream",
     "text": [
      "100%|██████████| 11468/11468 [00:36<00:00, 314.29it/s]\n",
      "100%|██████████| 45872/45872 [02:25<00:00, 315.38it/s]\n"
     ]
    },
    {
     "name": "stdout",
     "output_type": "stream",
     "text": [
      "training size: 45872\n",
      "testing size: 11468\n"
     ]
    },
    {
     "name": "stderr",
     "output_type": "stream",
     "text": [
      "  0%|          | 27/11468 [00:00<00:42, 268.04it/s]"
     ]
    },
    {
     "name": "stdout",
     "output_type": "stream",
     "text": [
      "Time elapsed for frequency computation: 5.608999252319336\n",
      "Time elapsed for normalization: 0.003994941711425781\n"
     ]
    },
    {
     "name": "stderr",
     "output_type": "stream",
     "text": [
      "100%|██████████| 11468/11468 [00:38<00:00, 296.67it/s]\n",
      "100%|██████████| 45872/45872 [02:37<00:00, 291.90it/s]\n"
     ]
    },
    {
     "name": "stdout",
     "output_type": "stream",
     "text": [
      "training size: 45872\n",
      "testing size: 11468\n"
     ]
    },
    {
     "name": "stderr",
     "output_type": "stream",
     "text": [
      "  0%|          | 29/11468 [00:00<00:40, 284.80it/s]"
     ]
    },
    {
     "name": "stdout",
     "output_type": "stream",
     "text": [
      "Time elapsed for frequency computation: 6.515130281448364\n",
      "Time elapsed for normalization: 0.003988504409790039\n"
     ]
    },
    {
     "name": "stderr",
     "output_type": "stream",
     "text": [
      "100%|██████████| 11468/11468 [00:39<00:00, 293.38it/s]\n",
      "100%|██████████| 45872/45872 [02:42<00:00, 282.58it/s]\n"
     ]
    },
    {
     "name": "stdout",
     "output_type": "stream",
     "text": [
      "training size: 45872\n",
      "testing size: 11468\n"
     ]
    },
    {
     "name": "stderr",
     "output_type": "stream",
     "text": [
      "  0%|          | 24/11468 [00:00<00:48, 235.93it/s]"
     ]
    },
    {
     "name": "stdout",
     "output_type": "stream",
     "text": [
      "Time elapsed for frequency computation: 5.91019606590271\n",
      "Time elapsed for normalization: 0.005984067916870117\n"
     ]
    },
    {
     "name": "stderr",
     "output_type": "stream",
     "text": [
      "100%|██████████| 11468/11468 [00:38<00:00, 297.46it/s]\n",
      "100%|██████████| 45872/45872 [02:38<00:00, 289.36it/s]\n"
     ]
    },
    {
     "name": "stdout",
     "output_type": "stream",
     "text": [
      "training size: 45872\n",
      "testing size: 11468\n"
     ]
    },
    {
     "name": "stderr",
     "output_type": "stream",
     "text": [
      "  0%|          | 32/11468 [00:00<00:35, 317.67it/s]"
     ]
    },
    {
     "name": "stdout",
     "output_type": "stream",
     "text": [
      "Time elapsed for frequency computation: 6.298160791397095\n",
      "Time elapsed for normalization: 0.003988742828369141\n"
     ]
    },
    {
     "name": "stderr",
     "output_type": "stream",
     "text": [
      "100%|██████████| 11468/11468 [00:39<00:00, 289.65it/s]\n",
      "100%|██████████| 45872/45872 [02:39<00:00, 287.04it/s]\n"
     ]
    },
    {
     "name": "stdout",
     "output_type": "stream",
     "text": [
      "training size: 45872\n",
      "testing size: 11468\n"
     ]
    },
    {
     "name": "stderr",
     "output_type": "stream",
     "text": [
      "  0%|          | 25/11468 [00:00<00:46, 248.18it/s]"
     ]
    },
    {
     "name": "stdout",
     "output_type": "stream",
     "text": [
      "Time elapsed for frequency computation: 6.252982139587402\n",
      "Time elapsed for normalization: 0.004987955093383789\n"
     ]
    },
    {
     "name": "stderr",
     "output_type": "stream",
     "text": [
      "100%|██████████| 11468/11468 [00:41<00:00, 279.19it/s]\n",
      "100%|██████████| 45872/45872 [02:32<00:00, 300.71it/s]\n"
     ]
    },
    {
     "name": "stdout",
     "output_type": "stream",
     "text": [
      "training size: 45872\n",
      "testing size: 11468\n"
     ]
    },
    {
     "name": "stderr",
     "output_type": "stream",
     "text": [
      "  0%|          | 40/11468 [00:00<00:28, 397.10it/s]"
     ]
    },
    {
     "name": "stdout",
     "output_type": "stream",
     "text": [
      "Time elapsed for frequency computation: 6.611320495605469\n",
      "Time elapsed for normalization: 0.003989219665527344\n"
     ]
    },
    {
     "name": "stderr",
     "output_type": "stream",
     "text": [
      "100%|██████████| 11468/11468 [00:37<00:00, 308.99it/s]\n",
      "100%|██████████| 45872/45872 [02:15<00:00, 339.76it/s]\n"
     ]
    },
    {
     "name": "stdout",
     "output_type": "stream",
     "text": [
      "training size: 45872\n",
      "testing size: 11468\n"
     ]
    },
    {
     "name": "stderr",
     "output_type": "stream",
     "text": [
      "  0%|          | 30/11468 [00:00<00:39, 289.24it/s]"
     ]
    },
    {
     "name": "stdout",
     "output_type": "stream",
     "text": [
      "Time elapsed for frequency computation: 6.050821304321289\n",
      "Time elapsed for normalization: 0.004985809326171875\n"
     ]
    },
    {
     "name": "stderr",
     "output_type": "stream",
     "text": [
      "100%|██████████| 11468/11468 [00:37<00:00, 309.16it/s]\n",
      "100%|██████████| 45872/45872 [02:38<00:00, 288.69it/s]\n"
     ]
    },
    {
     "name": "stdout",
     "output_type": "stream",
     "text": [
      "training size: 45872\n",
      "testing size: 11468\n"
     ]
    },
    {
     "name": "stderr",
     "output_type": "stream",
     "text": [
      "  0%|          | 25/11468 [00:00<00:47, 238.73it/s]"
     ]
    },
    {
     "name": "stdout",
     "output_type": "stream",
     "text": [
      "Time elapsed for frequency computation: 7.633589744567871\n",
      "Time elapsed for normalization: 0.003991603851318359\n"
     ]
    },
    {
     "name": "stderr",
     "output_type": "stream",
     "text": [
      "100%|██████████| 11468/11468 [00:42<00:00, 271.02it/s]\n",
      "100%|██████████| 45872/45872 [02:38<00:00, 288.86it/s]\n"
     ]
    },
    {
     "name": "stdout",
     "output_type": "stream",
     "text": [
      "training size: 45872\n",
      "testing size: 11468\n"
     ]
    },
    {
     "name": "stderr",
     "output_type": "stream",
     "text": [
      "  0%|          | 41/11468 [00:00<00:28, 395.28it/s]"
     ]
    },
    {
     "name": "stdout",
     "output_type": "stream",
     "text": [
      "Time elapsed for frequency computation: 7.110521554946899\n",
      "Time elapsed for normalization: 0.003988742828369141\n"
     ]
    },
    {
     "name": "stderr",
     "output_type": "stream",
     "text": [
      "100%|██████████| 11468/11468 [00:37<00:00, 308.97it/s]\n",
      "100%|██████████| 45872/45872 [02:31<00:00, 303.24it/s]\n"
     ]
    },
    {
     "name": "stdout",
     "output_type": "stream",
     "text": [
      "training size: 45872\n",
      "testing size: 11468\n"
     ]
    },
    {
     "name": "stderr",
     "output_type": "stream",
     "text": [
      "  0%|          | 26/11468 [00:00<00:45, 250.67it/s]"
     ]
    },
    {
     "name": "stdout",
     "output_type": "stream",
     "text": [
      "Time elapsed for frequency computation: 6.472693204879761\n",
      "Time elapsed for normalization: 0.004985809326171875\n"
     ]
    },
    {
     "name": "stderr",
     "output_type": "stream",
     "text": [
      "100%|██████████| 11468/11468 [00:38<00:00, 301.12it/s]\n",
      "100%|██████████| 45872/45872 [02:30<00:00, 305.23it/s]\n"
     ]
    },
    {
     "name": "stdout",
     "output_type": "stream",
     "text": [
      "training size: 45872\n",
      "testing size: 11468\n"
     ]
    },
    {
     "name": "stderr",
     "output_type": "stream",
     "text": [
      "  0%|          | 32/11468 [00:00<00:36, 311.51it/s]"
     ]
    },
    {
     "name": "stdout",
     "output_type": "stream",
     "text": [
      "Time elapsed for frequency computation: 5.15621280670166\n",
      "Time elapsed for normalization: 0.003987312316894531\n"
     ]
    },
    {
     "name": "stderr",
     "output_type": "stream",
     "text": [
      "100%|██████████| 11468/11468 [00:36<00:00, 318.08it/s]\n",
      "100%|██████████| 45872/45872 [02:26<00:00, 313.58it/s]\n"
     ]
    },
    {
     "name": "stdout",
     "output_type": "stream",
     "text": [
      "training size: 45872\n",
      "testing size: 11468\n"
     ]
    },
    {
     "name": "stderr",
     "output_type": "stream",
     "text": [
      "  0%|          | 39/11468 [00:00<00:30, 379.66it/s]"
     ]
    },
    {
     "name": "stdout",
     "output_type": "stream",
     "text": [
      "Time elapsed for frequency computation: 5.291851282119751\n",
      "Time elapsed for normalization: 0.005984783172607422\n"
     ]
    },
    {
     "name": "stderr",
     "output_type": "stream",
     "text": [
      "100%|██████████| 11468/11468 [00:35<00:00, 325.78it/s]\n",
      "100%|██████████| 45872/45872 [02:12<00:00, 346.52it/s]\n"
     ]
    },
    {
     "name": "stdout",
     "output_type": "stream",
     "text": [
      "training size: 45872\n",
      "testing size: 11468\n"
     ]
    },
    {
     "name": "stderr",
     "output_type": "stream",
     "text": [
      "  0%|          | 29/11468 [00:00<00:39, 287.91it/s]"
     ]
    },
    {
     "name": "stdout",
     "output_type": "stream",
     "text": [
      "Time elapsed for frequency computation: 5.20707631111145\n",
      "Time elapsed for normalization: 0.00399017333984375\n"
     ]
    },
    {
     "name": "stderr",
     "output_type": "stream",
     "text": [
      "100%|██████████| 11468/11468 [00:35<00:00, 325.59it/s]\n",
      "100%|██████████| 45872/45872 [02:23<00:00, 319.71it/s]\n"
     ]
    },
    {
     "name": "stdout",
     "output_type": "stream",
     "text": [
      "training size: 45872\n",
      "testing size: 11468\n"
     ]
    },
    {
     "name": "stderr",
     "output_type": "stream",
     "text": [
      "  0%|          | 38/11468 [00:00<00:30, 373.57it/s]"
     ]
    },
    {
     "name": "stdout",
     "output_type": "stream",
     "text": [
      "Time elapsed for frequency computation: 6.6302735805511475\n",
      "Time elapsed for normalization: 0.004987239837646484\n"
     ]
    },
    {
     "name": "stderr",
     "output_type": "stream",
     "text": [
      "100%|██████████| 11468/11468 [00:36<00:00, 316.44it/s]\n",
      "100%|██████████| 45872/45872 [02:27<00:00, 311.32it/s]\n"
     ]
    },
    {
     "name": "stdout",
     "output_type": "stream",
     "text": [
      "training size: 45872\n",
      "testing size: 11468\n"
     ]
    },
    {
     "name": "stderr",
     "output_type": "stream",
     "text": [
      "  0%|          | 28/11468 [00:00<00:42, 269.94it/s]"
     ]
    },
    {
     "name": "stdout",
     "output_type": "stream",
     "text": [
      "Time elapsed for frequency computation: 7.577739715576172\n",
      "Time elapsed for normalization: 0.0049860477447509766\n"
     ]
    },
    {
     "name": "stderr",
     "output_type": "stream",
     "text": [
      "100%|██████████| 11468/11468 [00:39<00:00, 287.88it/s]\n",
      "100%|██████████| 45872/45872 [02:36<00:00, 293.31it/s]\n"
     ]
    },
    {
     "name": "stdout",
     "output_type": "stream",
     "text": [
      "training size: 45872\n",
      "testing size: 11468\n"
     ]
    },
    {
     "name": "stderr",
     "output_type": "stream",
     "text": [
      "  0%|          | 29/11468 [00:00<00:40, 285.07it/s]"
     ]
    },
    {
     "name": "stdout",
     "output_type": "stream",
     "text": [
      "Time elapsed for frequency computation: 8.652858018875122\n",
      "Time elapsed for normalization: 0.004984855651855469\n"
     ]
    },
    {
     "name": "stderr",
     "output_type": "stream",
     "text": [
      "100%|██████████| 11468/11468 [00:40<00:00, 284.15it/s]\n",
      "100%|██████████| 45872/45872 [02:36<00:00, 293.77it/s]\n"
     ]
    },
    {
     "name": "stdout",
     "output_type": "stream",
     "text": [
      "training size: 45872\n",
      "testing size: 11468\n"
     ]
    },
    {
     "name": "stderr",
     "output_type": "stream",
     "text": [
      "  0%|          | 31/11468 [00:00<00:37, 307.75it/s]"
     ]
    },
    {
     "name": "stdout",
     "output_type": "stream",
     "text": [
      "Time elapsed for frequency computation: 7.785184860229492\n",
      "Time elapsed for normalization: 0.003989458084106445\n"
     ]
    },
    {
     "name": "stderr",
     "output_type": "stream",
     "text": [
      "100%|██████████| 11468/11468 [00:39<00:00, 293.36it/s]\n",
      "100%|██████████| 45872/45872 [02:55<00:00, 260.95it/s]\n"
     ]
    },
    {
     "name": "stdout",
     "output_type": "stream",
     "text": [
      "training size: 45872\n",
      "testing size: 11468\n"
     ]
    },
    {
     "name": "stderr",
     "output_type": "stream",
     "text": [
      "  0%|          | 17/11468 [00:00<01:07, 168.77it/s]"
     ]
    },
    {
     "name": "stdout",
     "output_type": "stream",
     "text": [
      "Time elapsed for frequency computation: 5.858337640762329\n",
      "Time elapsed for normalization: 0.004987001419067383\n"
     ]
    },
    {
     "name": "stderr",
     "output_type": "stream",
     "text": [
      "100%|██████████| 11468/11468 [00:36<00:00, 313.96it/s]\n",
      "100%|██████████| 45872/45872 [02:12<00:00, 345.99it/s]\n"
     ]
    },
    {
     "name": "stdout",
     "output_type": "stream",
     "text": [
      "training size: 45872\n",
      "testing size: 11468\n"
     ]
    },
    {
     "name": "stderr",
     "output_type": "stream",
     "text": [
      "  0%|          | 30/11468 [00:00<00:38, 294.90it/s]"
     ]
    },
    {
     "name": "stdout",
     "output_type": "stream",
     "text": [
      "Time elapsed for frequency computation: 4.657549619674683\n",
      "Time elapsed for normalization: 0.004987478256225586\n"
     ]
    },
    {
     "name": "stderr",
     "output_type": "stream",
     "text": [
      "100%|██████████| 11468/11468 [00:28<00:00, 407.14it/s]\n",
      "100%|██████████| 45872/45872 [02:18<00:00, 330.36it/s]\n"
     ]
    },
    {
     "name": "stdout",
     "output_type": "stream",
     "text": [
      "training size: 45872\n",
      "testing size: 11468\n"
     ]
    },
    {
     "name": "stderr",
     "output_type": "stream",
     "text": [
      "  0%|          | 28/11468 [00:00<00:42, 269.95it/s]"
     ]
    },
    {
     "name": "stdout",
     "output_type": "stream",
     "text": [
      "Time elapsed for frequency computation: 6.415850639343262\n",
      "Time elapsed for normalization: 0.003993988037109375\n"
     ]
    },
    {
     "name": "stderr",
     "output_type": "stream",
     "text": [
      "100%|██████████| 11468/11468 [00:36<00:00, 313.93it/s]\n",
      "100%|██████████| 45872/45872 [02:18<00:00, 331.66it/s]\n"
     ]
    },
    {
     "name": "stdout",
     "output_type": "stream",
     "text": [
      "training size: 45872\n",
      "testing size: 11468\n"
     ]
    },
    {
     "name": "stderr",
     "output_type": "stream",
     "text": [
      "  0%|          | 33/11468 [00:00<00:35, 318.16it/s]"
     ]
    },
    {
     "name": "stdout",
     "output_type": "stream",
     "text": [
      "Time elapsed for frequency computation: 5.33174204826355\n",
      "Time elapsed for normalization: 0.003988742828369141\n"
     ]
    },
    {
     "name": "stderr",
     "output_type": "stream",
     "text": [
      "100%|██████████| 11468/11468 [00:35<00:00, 325.80it/s]\n",
      "100%|██████████| 45872/45872 [02:21<00:00, 323.64it/s]\n"
     ]
    },
    {
     "name": "stdout",
     "output_type": "stream",
     "text": [
      "training size: 45872\n",
      "testing size: 11468\n"
     ]
    },
    {
     "name": "stderr",
     "output_type": "stream",
     "text": [
      "  0%|          | 33/11468 [00:00<00:36, 312.16it/s]"
     ]
    },
    {
     "name": "stdout",
     "output_type": "stream",
     "text": [
      "Time elapsed for frequency computation: 6.7738893032073975\n",
      "Time elapsed for normalization: 0.003988981246948242\n"
     ]
    },
    {
     "name": "stderr",
     "output_type": "stream",
     "text": [
      "100%|██████████| 11468/11468 [00:36<00:00, 309.95it/s]\n",
      "100%|██████████| 45872/45872 [02:26<00:00, 313.16it/s]\n"
     ]
    },
    {
     "name": "stdout",
     "output_type": "stream",
     "text": [
      "training size: 45872\n",
      "testing size: 11468\n"
     ]
    },
    {
     "name": "stderr",
     "output_type": "stream",
     "text": [
      "  0%|          | 26/11468 [00:00<00:46, 248.28it/s]"
     ]
    },
    {
     "name": "stdout",
     "output_type": "stream",
     "text": [
      "Time elapsed for frequency computation: 6.833728075027466\n",
      "Time elapsed for normalization: 0.0069811344146728516\n"
     ]
    },
    {
     "name": "stderr",
     "output_type": "stream",
     "text": [
      "100%|██████████| 11468/11468 [00:37<00:00, 303.03it/s]\n",
      "100%|██████████| 45872/45872 [02:23<00:00, 318.83it/s]\n"
     ]
    },
    {
     "name": "stdout",
     "output_type": "stream",
     "text": [
      "training size: 45872\n",
      "testing size: 11468\n"
     ]
    },
    {
     "name": "stderr",
     "output_type": "stream",
     "text": [
      "  0%|          | 32/11468 [00:00<00:35, 317.68it/s]"
     ]
    },
    {
     "name": "stdout",
     "output_type": "stream",
     "text": [
      "Time elapsed for frequency computation: 6.084731340408325\n",
      "Time elapsed for normalization: 0.003986835479736328\n"
     ]
    },
    {
     "name": "stderr",
     "output_type": "stream",
     "text": [
      "100%|██████████| 11468/11468 [00:34<00:00, 330.47it/s]\n",
      "100%|██████████| 45872/45872 [02:18<00:00, 332.14it/s]\n"
     ]
    },
    {
     "name": "stdout",
     "output_type": "stream",
     "text": [
      "training size: 45872\n",
      "testing size: 11468\n"
     ]
    },
    {
     "name": "stderr",
     "output_type": "stream",
     "text": [
      "  0%|          | 20/11468 [00:00<01:02, 183.98it/s]"
     ]
    },
    {
     "name": "stdout",
     "output_type": "stream",
     "text": [
      "Time elapsed for frequency computation: 6.713052034378052\n",
      "Time elapsed for normalization: 0.004986286163330078\n"
     ]
    },
    {
     "name": "stderr",
     "output_type": "stream",
     "text": [
      "100%|██████████| 11468/11468 [00:38<00:00, 297.21it/s]\n",
      "100%|██████████| 45872/45872 [02:15<00:00, 338.47it/s]\n"
     ]
    },
    {
     "name": "stdout",
     "output_type": "stream",
     "text": [
      "training size: 45872\n",
      "testing size: 11468\n"
     ]
    },
    {
     "name": "stderr",
     "output_type": "stream",
     "text": [
      "  0%|          | 27/11468 [00:00<00:42, 268.04it/s]"
     ]
    },
    {
     "name": "stdout",
     "output_type": "stream",
     "text": [
      "Time elapsed for frequency computation: 6.248292922973633\n",
      "Time elapsed for normalization: 0.004986286163330078\n"
     ]
    },
    {
     "name": "stderr",
     "output_type": "stream",
     "text": [
      "100%|██████████| 11468/11468 [00:34<00:00, 328.15it/s]\n",
      "100%|██████████| 45872/45872 [02:20<00:00, 327.04it/s]\n"
     ]
    },
    {
     "name": "stdout",
     "output_type": "stream",
     "text": [
      "training size: 45872\n",
      "testing size: 11468\n"
     ]
    },
    {
     "name": "stderr",
     "output_type": "stream",
     "text": [
      "  0%|          | 31/11468 [00:00<00:37, 301.78it/s]"
     ]
    },
    {
     "name": "stdout",
     "output_type": "stream",
     "text": [
      "Time elapsed for frequency computation: 5.37164044380188\n",
      "Time elapsed for normalization: 0.003987550735473633\n"
     ]
    },
    {
     "name": "stderr",
     "output_type": "stream",
     "text": [
      "100%|██████████| 11468/11468 [00:31<00:00, 360.14it/s]\n",
      "100%|██████████| 45872/45872 [02:21<00:00, 324.16it/s]\n"
     ]
    },
    {
     "name": "stdout",
     "output_type": "stream",
     "text": [
      "training size: 45872\n",
      "testing size: 11468\n"
     ]
    },
    {
     "name": "stderr",
     "output_type": "stream",
     "text": [
      "  0%|          | 28/11468 [00:00<00:41, 275.24it/s]"
     ]
    },
    {
     "name": "stdout",
     "output_type": "stream",
     "text": [
      "Time elapsed for frequency computation: 5.407540798187256\n",
      "Time elapsed for normalization: 0.003988742828369141\n"
     ]
    },
    {
     "name": "stderr",
     "output_type": "stream",
     "text": [
      "100%|██████████| 11468/11468 [00:38<00:00, 299.98it/s]\n",
      "100%|██████████| 45872/45872 [02:31<00:00, 302.56it/s]\n"
     ]
    },
    {
     "name": "stdout",
     "output_type": "stream",
     "text": [
      "training size: 45872\n",
      "testing size: 11468\n"
     ]
    },
    {
     "name": "stderr",
     "output_type": "stream",
     "text": [
      "  0%|          | 34/11468 [00:00<00:34, 327.80it/s]"
     ]
    },
    {
     "name": "stdout",
     "output_type": "stream",
     "text": [
      "Time elapsed for frequency computation: 7.13292932510376\n",
      "Time elapsed for normalization: 0.003987550735473633\n"
     ]
    },
    {
     "name": "stderr",
     "output_type": "stream",
     "text": [
      "100%|██████████| 11468/11468 [00:40<00:00, 284.16it/s]\n",
      "100%|██████████| 45872/45872 [02:07<00:00, 360.60it/s]\n"
     ]
    },
    {
     "data": {
      "image/png": "[encoded data removed]",
      "text/plain": [
       "<Figure size 432x288 with 1 Axes>"
      ]
     },
     "metadata": {
      "needs_background": "light"
     },
     "output_type": "display_data"
    }
   ],
   "source": [
    "# unknown probability hyperparameter optimization\n",
    "unknown_prob_list = [0.1, 0.01, 0.001, 0.0001, 0.00001, 0.000001, 0.0000001]\n",
    "test_accuracy = []\n",
    "train_accuracy = []\n",
    "\n",
    "# computation of confusion matrix for accuracy\n",
    "for unknown_prob in unknown_prob_list:\n",
    "    confusion_matrix_train, confusion_matrix_test, _ = hmm_confusion(unknown_prob)\n",
    "    test_accuracy.append(100 * np.trace(confusion_matrix_test) / np.sum(confusion_matrix_test))\n",
    "    train_accuracy.append(100 * np.trace(confusion_matrix_train) / np.sum(confusion_matrix_train))\n",
    "    \n",
    "# plotting the graph\n",
    "plt.figure(1)\n",
    "plt.title('Zero order back off hyperparameter optimization')\n",
    "plt.xlabel('Probability Value')\n",
    "plt.ylabel('Accuracy')\n",
    "plt.xscale('log')\n",
    "plt.plot(unknown_prob_list, train_accuracy, label='train_accuracy')\n",
    "plt.plot(unknown_prob_list, test_accuracy, label='test_accuracy')\n",
    "plt.show\n",
    "plt.savefig('zero_order_back_off_optimization.png')"
   ]
  },
  {
   "cell_type": "code",
   "execution_count": 26,
   "metadata": {},
   "outputs": [
    {
     "name": "stdout",
     "output_type": "stream",
     "text": [
      "NUM : 0.012809272\n",
      ". : 0.12708071\n",
      "VERB : 0.1573814\n",
      "ADP : 0.124670185\n",
      "ADV : 0.048431944\n",
      "PRT : 0.02568824\n",
      "DET : 0.11799852\n",
      "X : 0.0011936161\n",
      "PRON : 0.042485632\n",
      "ADJ : 0.07209917\n",
      "NOUN : 0.23730628\n",
      "CONJ : 0.03285504\n"
     ]
    }
   ],
   "source": [
    "for index, relative_frequency in enumerate(tag_histogram):\n",
    "    print(tags.fetch(index, 'id'), ':', relative_frequency)"
   ]
  },
  {
   "cell_type": "code",
   "execution_count": 12,
   "metadata": {},
   "outputs": [],
   "source": [
    "def compute_entropy_transitions(cond_prob_tags):\n",
    "    log_cond_prob_tags = np.log(cond_prob_tags)\n",
    "    return -np.sum(cond_prob_tags * log_cond_prob_tags, axis=1)"
   ]
  },
  {
   "cell_type": "code",
   "execution_count": 13,
   "metadata": {},
   "outputs": [],
   "source": [
    "cond_entropy_vec = compute_entropy_transitions(cond_prob_tags)"
   ]
  },
  {
   "cell_type": "code",
   "execution_count": 14,
   "metadata": {},
   "outputs": [
    {
     "name": "stdout",
     "output_type": "stream",
     "text": [
      "DET : 1.1325128960287243 0.11799832\n",
      "NOUN : 1.8545714446697907 0.23730643\n",
      "PRT : 1.4068052602500902 0.025688196\n",
      "ADV : 2.1008441866047547 0.048432115\n",
      "NUM : 1.7182536132735873 0.012809289\n",
      "ADJ : 1.2893061132569743 0.072099194\n",
      "VERB : 2.1800972045826827 0.15738137\n",
      "X : 1.38595193131304 0.001193641\n",
      "CONJ : 2.0423046923363963 0.03285494\n",
      ". : 1.703649748647939 0.12708077\n",
      "PRON : 1.1467809980323822 0.042485636\n",
      "ADP : 1.602265317045005 0.12467013\n"
     ]
    }
   ],
   "source": [
    "for index, (entropy, tag_histogram) in enumerate(zip(cond_entropy_vec, tag_histogram)):\n",
    "    print(tags.fetch(index, 'id'), ':', entropy, tag_histogram)"
   ]
  },
  {
   "cell_type": "code",
   "execution_count": null,
   "metadata": {},
   "outputs": [],
   "source": []
  }
 ],
 "metadata": {
  "kernelspec": {
   "display_name": "Python 3",
   "language": "python",
   "name": "python3"
  },
  "language_info": {
   "codemirror_mode": {
    "name": "ipython",
    "version": 3
   },
   "file_extension": ".py",
   "mimetype": "text/x-python",
   "name": "python",
   "nbconvert_exporter": "python",
   "pygments_lexer": "ipython3",
   "version": "3.7.6"
  }
 },
 "nbformat": 4,
 "nbformat_minor": 4
}
