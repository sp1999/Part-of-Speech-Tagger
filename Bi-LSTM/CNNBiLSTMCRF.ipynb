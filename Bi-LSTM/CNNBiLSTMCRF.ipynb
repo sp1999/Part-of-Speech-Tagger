{
 "cells": [
  {
   "cell_type": "code",
   "execution_count": 1,
   "metadata": {},
   "outputs": [],
   "source": [
    "import nltk\n",
    "import torch\n",
    "import torchvision\n",
    "import numpy as np\n",
    "import string\n",
    "import unicodedata\n",
    "import torch.nn as nn\n",
    "import seaborn as sns\n",
    "import pandas as pd\n",
    "import matplotlib.pyplot as plt\n",
    "from tqdm import tqdm\n",
    "from nltk.corpus import brown\n",
    "from sklearn.model_selection import train_test_split, KFold"
   ]
  },
  {
   "cell_type": "code",
   "execution_count": 2,
   "metadata": {},
   "outputs": [],
   "source": [
    "# important constants\n",
    "char_embedding_dim = 30\n",
    "word_embedding_dim = 100\n",
    "max_word_len = 40\n",
    "dropout_prob = 0.5\n",
    "num_cnn_filter = 30\n",
    "char_kernel_size = 3\n",
    "rnn_hidden_dim = 100\n",
    "word_embedding_path = 'glove.6B/glove.6B.{}d.txt'.format(word_embedding_dim)\n",
    "lr = 0.01\n",
    "lr_decay = 0.05\n",
    "min_epoches = 3\n",
    "momentum = 0.9\n",
    "batch_size = 10"
   ]
  },
  {
   "cell_type": "code",
   "execution_count": 3,
   "metadata": {},
   "outputs": [],
   "source": [
    "# setting the device to gpu if cuda is available\n",
    "device = torch.device('cuda:0' if torch.cuda.is_available() else 'cpu')"
   ]
  },
  {
   "cell_type": "code",
   "execution_count": 4,
   "metadata": {},
   "outputs": [],
   "source": [
    "# datastructure for storing the id and val mapping\n",
    "class unique_dict:\n",
    "    def __init__(self):\n",
    "        self.id = 0\n",
    "        self.id2val = dict()\n",
    "        self.val2id = dict()\n",
    "        self.vals = set()\n",
    "        \n",
    "    def get_length(self):\n",
    "        return self.id\n",
    "    \n",
    "    def store(self, val):\n",
    "        self.id2val[self.id] = val\n",
    "        self.val2id[val] = self.id\n",
    "        self.vals.add(val)\n",
    "        self.id += 1\n",
    "    \n",
    "    def fetch(self, key, by='id'):\n",
    "        if by == 'id':\n",
    "            return self.id2val[key]\n",
    "        elif key in self.vals:\n",
    "            return self.val2id[key]\n",
    "        else:\n",
    "            return None"
   ]
  },
  {
   "cell_type": "code",
   "execution_count": 9,
   "metadata": {},
   "outputs": [],
   "source": [
    "# initializing character unique_dict for ascii characters only\n",
    "def generate_unique_characters():\n",
    "    char_list = ''.join([chr(i) for i in range(128)])\n",
    "    characters = unique_dict()\n",
    "    for char in char_list:\n",
    "        characters.store(char)\n",
    "    return characters\n",
    "\n",
    "# intializes the word unique_dict and embedding matrix\n",
    "def generate_words_embedding(embedding_path):\n",
    "    words = unique_dict()\n",
    "    word_embedding = list()\n",
    "    \n",
    "    with open(embedding_path, 'rb') as embedding_file:\n",
    "        for encoded_line in tqdm(embedding_file):\n",
    "            line = encoded_line.decode().split()\n",
    "            words.store(line[0])\n",
    "            embedding = np.array(line[1:]).astype(np.float)\n",
    "            word_embedding.append(embedding)\n",
    "    \n",
    "    other_embedding = np.random.rand(2, word_embedding_dim)\n",
    "            \n",
    "    return words, np.vstack([np.array(word_embedding), other_embedding])\n",
    "\n",
    "def generate_dataset(tags):\n",
    "    tagged_sent = brown.tagged_sents(tagset='universal')\n",
    "    word_sequences = [[word for (word, tag) in sent] for sent in tagged_sent]\n",
    "    tag_sequences = [[tags.fetch(tag, 'val') for (word, tag) in sent] for sent in tagged_sent]\n",
    "    return word_sequences, tag_sequences\n",
    "\n",
    "def generate_unique_tags():\n",
    "    tagset = set([tag for [word, tag] in brown.tagged_words(tagset='universal')])\n",
    "    tags = unique_dict()\n",
    "    tags.store('dummy')\n",
    "    for tag in tagset:\n",
    "        if tags.fetch(tag, 'val') == None:\n",
    "            tags.store(tag)\n",
    "    return tags\n",
    "\n",
    "# character level word encoder\n",
    "class Encoder(nn.Module):\n",
    "    def __init__(self, characters, words, word_embedding):\n",
    "        super(Encoder, self).__init__()\n",
    "        self.characters = characters\n",
    "        self.words = words\n",
    "        \n",
    "        # embedding layer utils\n",
    "        self.word_embedding = torch.from_numpy(word_embedding)\n",
    "        self.char_embedding = nn.Embedding(characters.id + 2, char_embedding_dim) # unk char => 128, pad char => 129 \n",
    "        nn.init.uniform_(self.char_embedding.weight, a=-(3/char_embedding_dim)**0.5, b=(3/char_embedding_dim)**0.5)\n",
    "        \n",
    "        # dropout utils\n",
    "        self.dropout = nn.Dropout(p=dropout_prob)\n",
    "        \n",
    "        # character convolution\n",
    "        self.convolution = nn.Conv1d(\n",
    "            in_channels=char_embedding_dim,\n",
    "            out_channels=char_embedding_dim * num_cnn_filter,\n",
    "            kernel_size=char_kernel_size,\n",
    "            groups=char_embedding_dim\n",
    "        )\n",
    "        nn.init.xavier_uniform_(self.convolution.weight, gain=1.0)\n",
    "        nn.init.zeros_(self.convolution.bias)\n",
    "    \n",
    "    def forward(self, word_sequences):\n",
    "        batch_count = len(word_sequences)\n",
    "        seq_len = [len(seq) for seq in word_sequences]\n",
    "        max_seq_len = max(seq_len)\n",
    "        expanded_seq = [[[char for char in word] for word in seq] for seq in word_sequences]\n",
    "        word_seq_tensor = torch.zeros(batch_count, max_seq_len, max_word_len, dtype=torch.long, device=device)\n",
    "        \n",
    "        # converting list of sequences of list of words of list of characters to corresponding ids\n",
    "        for batch_id, curr_seq in enumerate(expanded_seq):\n",
    "            curr_seq_id = list()\n",
    "            for word in curr_seq:\n",
    "                word_id = [self.characters.fetch(char, 'val') or self.characters.id for char in word]\n",
    "                word_id = torch.LongTensor(word_id).to(device)\n",
    "                \n",
    "                # center padding for the word\n",
    "                pad = [(max_word_len - len(word)) // 2, (max_word_len - len(word) + 1) // 2]\n",
    "                word_id = nn.functional.pad(word_id, pad, value=self.characters.id + 1)\n",
    "                curr_seq_id.append(word_id)\n",
    "            \n",
    "            # appending the sequence to the word_seq_tensor\n",
    "            curr_seq_tensor = torch.zeros(len(curr_seq_id), max_word_len, dtype=torch.long, device=device)\n",
    "            curr_seq_tensor = torch.stack(curr_seq_id)\n",
    "            word_seq_tensor[batch_id, :curr_seq_tensor.shape[0], :] = curr_seq_tensor\n",
    "        \n",
    "        # generating embeddings character level\n",
    "        word_seq_embeddings = self.char_embedding(word_seq_tensor)\n",
    "        word_seq_embeddings = word_seq_embeddings.permute(0, 1, 3, 2)\n",
    "        \n",
    "        # applying the dropout\n",
    "        word_seq_embeddings = self.dropout(word_seq_embeddings)\n",
    "        \n",
    "        # convolution and max pooling\n",
    "        max_pooling_output = torch.zeros(\n",
    "            word_seq_embeddings.shape[0],\n",
    "            word_seq_embeddings.shape[1],\n",
    "            char_embedding_dim * num_cnn_filter,\n",
    "            dtype=torch.float,\n",
    "            device=device,\n",
    "        )\n",
    "        for word_id in range(max_seq_len):\n",
    "            max_pooling_output[:, word_id, :], _ = torch.max(self.convolution(word_seq_embeddings[:, word_id, :, :]), dim=2)\n",
    "            \n",
    "        # indexing the words according to the vocabulary\n",
    "        seq_word_indices = torch.ones(batch_count, max_seq_len, dtype=torch.int32, device=device) * (self.word_embedding.shape[0] - 1)\n",
    "        for (row_index, seq) in enumerate(word_sequences):\n",
    "            for (column_index, word) in enumerate(seq):\n",
    "                seq_word_indices[row_index, column_index] = self.words.fetch(word.lower(), 'val') or (self.word_embedding.shape[0] - 2)\n",
    "        \n",
    "        # generating the word embedding\n",
    "        word_embeddings_glove = torch.zeros(batch_count, max_seq_len, word_embedding_dim, device=device)\n",
    "        for row_index in range(seq_word_indices.shape[0]):\n",
    "            for column_index in range(seq_word_indices.shape[1]):\n",
    "                word_embeddings_glove[row_index, column_index, :] = self.word_embedding[seq_word_indices[row_index, column_index]]\n",
    "        word_embeddings_glove = self.dropout(word_embeddings_glove)\n",
    "        \n",
    "        # stacking the character level and word level embedding and returning the seq_le\n",
    "        return torch.cat([max_pooling_output, word_embeddings_glove], dim=2), seq_len\n",
    "\n",
    "# birnn custom class\n",
    "class BilstmCustom(nn.Module):\n",
    "    def __init__(self):\n",
    "        super(BilstmCustom, self).__init__()\n",
    "        \n",
    "        # rnn layer initializations\n",
    "        self.rnn = nn.LSTM(\n",
    "            input_size=char_embedding_dim * num_cnn_filter + word_embedding_dim,\n",
    "            hidden_size=rnn_hidden_dim,\n",
    "            num_layers=1,\n",
    "            batch_first=True,\n",
    "            bidirectional=True\n",
    "        )\n",
    "        nn.init.xavier_uniform_(self.rnn.weight_hh_l0)\n",
    "        nn.init.xavier_uniform_(self.rnn.weight_hh_l0_reverse)\n",
    "        nn.init.xavier_uniform_(self.rnn.weight_ih_l0)\n",
    "        nn.init.xavier_uniform_(self.rnn.weight_ih_l0_reverse)\n",
    "        self.rnn.bias_hh_l0.data.fill_(0)\n",
    "        self.rnn.bias_hh_l0_reverse.data.fill_(0)\n",
    "        self.rnn.bias_ih_l0.data.fill_(0)\n",
    "        self.rnn.bias_ih_l0_reverse.data.fill_(0)\n",
    "        self.h_0 = torch.zeros(2, batch_size, rnn_hidden_dim, device=device, requires_grad=False)\n",
    "        self.c_0 = torch.zeros(2, batch_size, rnn_hidden_dim, device=device, requires_grad=False)\n",
    "        \n",
    "        # setting a specific section of the bias = 1\n",
    "        for names in self.rnn._all_weights:\n",
    "            for name in filter(lambda n: 'bias' in n, names):\n",
    "                bias = getattr(self.rnn, name)\n",
    "                n = bias.size(0)\n",
    "                start, end = n // 4, n // 2\n",
    "                bias.data[start:end].fill_(1.)\n",
    "        \n",
    "    # sorts the sequence in the decreasing order, also returns the indexes in reverse order\n",
    "    def reverse_seq_len_sort(self, seq_len_list):\n",
    "        data_num = len(seq_len_list)\n",
    "        sort_indices = sorted(range(len(seq_len_list)), key=seq_len_list.__getitem__, reverse=True)\n",
    "        reverse_sort_indices = [-1 for _ in range(data_num)]\n",
    "        for i in range(data_num):\n",
    "            reverse_sort_indices[sort_indices[i]] = i\n",
    "        sort_index = torch.tensor(sort_indices, dtype=torch.long).to(device)\n",
    "        reverse_sort_index = torch.tensor(reverse_sort_indices, dtype=torch.long).to(device)\n",
    "        return sorted(seq_len_list, reverse=True), sort_index, reverse_sort_index\n",
    "    \n",
    "    # used for packing the sequences\n",
    "    # returns the packed input tensor along with reverse_sort_index to return back original order\n",
    "    def pack(self, input_tensor, seq_len_list):\n",
    "        sorted_seq, sort_index, reverse_sort_index = self.reverse_seq_len_sort(seq_len_list)\n",
    "        input_tensor_sorted = torch.index_select(input_tensor, dim=0, index=sort_index)\n",
    "        return nn.utils.rnn.pack_padded_sequence(input_tensor_sorted, lengths=sorted_seq, batch_first=True), reverse_sort_index\n",
    "    \n",
    "    # used to nullify the effect of the above\n",
    "    def unpack(self, output_packed_tensor, max_seq_len, reverse_sort_index):\n",
    "        output_tensor, _ = nn.utils.rnn.pad_packed_sequence(output_packed_tensor, batch_first=True, total_length=max_seq_len)\n",
    "        output_original_tensor = torch.index_select(output_tensor, dim=0, index=reverse_sort_index)\n",
    "        return output_original_tensor\n",
    "    \n",
    "    def forward(self, seq_word_embeddings, seq_len):\n",
    "        num_batch, max_seq_len, _ = seq_word_embeddings.shape\n",
    "        seq_word_embeddings_packed, reverse_sort_index = self.pack(seq_word_embeddings, seq_len)\n",
    "        output_packed_tensor, (h_0, c_0) = self.rnn(seq_word_embeddings_packed, (self.h_0, self.c_0))\n",
    "        self.h_0 = h_0.detach()\n",
    "        self.c_0 = c_0.detach()\n",
    "        return self.unpack(output_packed_tensor, max_seq_len, reverse_sort_index)\n",
    "    \n",
    "class CnnLstm(nn.Module):\n",
    "    def __init__(self, encoder, biLstmCustom, tags):\n",
    "        super(CnnLstm, self).__init__()\n",
    "        \n",
    "        # encoders and rnn layers\n",
    "        self.encoder = encoder\n",
    "        self.biLstmCustom = biLstmCustom\n",
    "\n",
    "        # a drop out layer\n",
    "        self.dropout = nn.Dropout(p=dropout_prob)\n",
    "        \n",
    "        # linear layer\n",
    "        self.linear = nn.Linear(in_features=rnn_hidden_dim * 2, out_features=tags.id)\n",
    "        self.log_soft_max = nn.LogSoftmax(dim=1)\n",
    "        \n",
    "        # loss layer\n",
    "        self.nll_loss = nn.NLLLoss(ignore_index=0)\n",
    "        \n",
    "    def forward(self, word_sequences):\n",
    "        # deriving the encodings at character level and word level\n",
    "        seq_word_embeddings, seq_len = self.encoder(word_sequences)\n",
    "        \n",
    "        # applying the rnn layer\n",
    "        rnn_output_tensor = self.biLstmCustom(seq_word_embeddings, seq_len)\n",
    "        rnn_output_tensor = self.dropout(rnn_output_tensor)\n",
    "        \n",
    "        # application of linear layer\n",
    "        linear_output = self.linear(rnn_output_tensor)\n",
    "        linear_output_log = self.log_soft_max(linear_output.permute(0, 2, 1))\n",
    "        return linear_output_log, seq_len\n",
    "    \n",
    "    def cross_entropy_loss(self, mini_batch_word_sequences, mini_batch_tag_sequences):\n",
    "        output_log_likelihood, _ = self.forward(mini_batch_word_sequences)\n",
    "        loss = self.nll_loss(output_log_likelihood, mini_batch_tag_sequences)\n",
    "        return loss\n",
    "    \n",
    "# to analyze the confusion matrix (to be tested)\n",
    "def analyze_confusion(confusion_matrix, tag_histogram, tags, data='test'):\n",
    "    \n",
    "    # accuracy computation\n",
    "    total_examples = np.sum(confusion_matrix)\n",
    "    correct_predictions = np.trace(confusion_matrix)\n",
    "    print('The overall accuracy of the bilstm model is:', correct_predictions * 100 / total_examples)\n",
    "    \n",
    "    # storing the confusion matrix in the form of csv file\n",
    "    tag_list = [tags.fetch(i, 'id') for i in range(1, tags.id)]\n",
    "    confusion_df = pd.DataFrame(confusion_matrix, index=tag_list, columns=tag_list)\n",
    "    confusion_df.to_csv('bilstm_confusion_matrix_' + data + '.csv')\n",
    "    \n",
    "    # plotting the heat map\n",
    "    plt.figure(figsize = (20, 20))\n",
    "    confusion_figure = sns.heatmap(confusion_matrix, annot=True, xticklabels=tag_list, yticklabels=tag_list)\n",
    "    plt.savefig('bilstm_confusion_figure_' + data + '.png')\n",
    "    \n",
    "    # per POS tag statistics\n",
    "    per_pos_dict = {'tag': [], 'precision': [], 'recall': [], 'f1-score': []}\n",
    "    for tag_id in range(confusion_matrix.shape[0]):\n",
    "        per_pos_dict['precision'].append(confusion_matrix[tag_id, tag_id] / np.sum(confusion_matrix[tag_id, :]))\n",
    "        per_pos_dict['recall'].append(confusion_matrix[tag_id, tag_id] / np.sum(confusion_matrix[:, tag_id]))\n",
    "        per_pos_dict['tag'].append(tags.fetch(tag_id + 1, 'id'))\n",
    "        per_pos_dict['f1-score'].append(2 * per_pos_dict['precision'][tag_id] * per_pos_dict['recall'][tag_id] / (per_pos_dict['recall'][tag_id] + per_pos_dict['precision'][tag_id]))\n",
    "    per_pos_df = pd.DataFrame(per_pos_dict)\n",
    "    per_pos_df.to_csv('bilstm_per_pos_accuracy_' + data + '.csv')\n",
    "    \n",
    "    # scatter plot for frequency vs f1-score for every tag\n",
    "    tag_f1_score = np.nan_to_num(per_pos_dict['f1-score'])\n",
    "    plt.figure()\n",
    "    plt.scatter(tag_histogram, tag_f1_score)\n",
    "    plt.title('Relative Frequency vs f1-score scatter plot')\n",
    "    plt.xlabel('Relative Frequency of tag')\n",
    "    plt.ylabel('F1 score')\n",
    "    plt.savefig('bilstm_scatter_plot_' + data + '.png')"
   ]
  },
  {
   "cell_type": "code",
   "execution_count": 6,
   "metadata": {},
   "outputs": [
    {
     "name": "stderr",
     "output_type": "stream",
     "text": [
      "400001it [01:09, 5784.37it/s]\n"
     ]
    }
   ],
   "source": [
    "tags = generate_unique_tags()\n",
    "characters = generate_unique_characters()\n",
    "words, word_embedding = generate_words_embedding(word_embedding_path)"
   ]
  },
  {
   "cell_type": "code",
   "execution_count": 7,
   "metadata": {},
   "outputs": [],
   "source": [
    "encoder = Encoder(characters, words, word_embedding).to(device)\n",
    "bilstm = BilstmCustom().to(device)\n",
    "cnnLstm = CnnLstm(encoder, bilstm, tags).to(device)"
   ]
  },
  {
   "cell_type": "code",
   "execution_count": 7,
   "metadata": {},
   "outputs": [],
   "source": [
    "test = [['Hello', 'everyone', '!'], ['How', 'are', 'you', '?'], ['Hello', 'everyone', '!']]"
   ]
  },
  {
   "cell_type": "code",
   "execution_count": 9,
   "metadata": {},
   "outputs": [],
   "source": [
    "word_sequences, tag_sequences = generate_dataset(tags)\n",
    "word_sequences_train, word_sequences_test, tag_sequences_train, tag_sequences_test = train_test_split(word_sequences, tag_sequences)"
   ]
  },
  {
   "cell_type": "code",
   "execution_count": 22,
   "metadata": {},
   "outputs": [],
   "source": [
    "optimizer = torch.optim.SGD(cnnLstm.parameters(), lr=lr, momentum=momentum)\n",
    "for epoch in range(min_epoches):\n",
    "    for i in tqdm(range(0, len(word_sequences_train), batch_size - 1)):        \n",
    "        # optimizer gradient flushing\n",
    "        optimizer.zero_grad()\n",
    "        \n",
    "        # sampling minibatches\n",
    "        word_sequences_train_minibatch = word_sequences_train[i: i + batch_size]\n",
    "        tag_sequences_train_minibatch = tag_sequences_train[i: i + batch_size]\n",
    "        \n",
    "        \n",
    "        if len(word_sequences) == batch_size:\n",
    "            # padding the ground truth\n",
    "            max_seq_len = max([len(tag_seq) for tag_seq in tag_sequences_train_minibatch])\n",
    "            tag_tensor = torch.zeros(len(tag_sequences_train_minibatch), max_seq_len, dtype=torch.long, device=device)\n",
    "            for row_index, tag_seq in enumerate(tag_sequences_train_minibatch):\n",
    "                for column_index, tag_id in enumerate(tag_seq):\n",
    "                    tag_tensor[row_index, column_index] = tag_id\n",
    "\n",
    "            # cross entropy loss computation\n",
    "            ce_loss = cnnLstm.cross_entropy_loss(word_sequences_train_minibatch, tag_tensor)\n",
    "            ce_loss.backward(retain_graph=True)\n",
    "            optimizer.step()\n",
    "        \n",
    "        # printing the loss\n",
    "        if i % 5000 == 0:\n",
    "            print('Epoch {}, Iteration {}: {}'.format(epoch, i, ce_loss))"
   ]
  },
  {
   "cell_type": "code",
   "execution_count": 23,
   "metadata": {},
   "outputs": [],
   "source": [
    "confusion_matrix = torch.zeros(tags.id - 1, tags.id - 1, dtype=torch.int32, device=device)\n",
    "\n",
    "# filling the entries in confusian matrix\n",
    "with torch.no_grad():\n",
    "    for i in (range(0, len(word_sequences_test), batch_size)):\n",
    "        \n",
    "        # sampling minibatches\n",
    "        word_sequences_test_minibatch = word_sequences_test[i: i + batch_size]\n",
    "        tag_sequences_test_minibatch = tag_sequences_test[i: i + batch_size]\n",
    "\n",
    "        # finding the model predictions\n",
    "        output_log_likelihood, _ = cnnLstm.forward(word_sequences_test_minibatch)\n",
    "        _, tag_pred_sequences_minibatch = torch.max(output_log_likelihood, dim=1)\n",
    "\n",
    "        for row_index, seq in enumerate(tag_sequences_test_minibatch):\n",
    "            for col_index, tag_id in enumerate(seq):\n",
    "                if tag_id != 0 and tag_pred_sequences_minibatch[row_index, col_index] != 0:\n",
    "                    confusion_matrix[tag_pred_sequences_minibatch[row_index, col_index] - 1, tag_id - 1] += 1"
   ]
  },
  {
   "cell_type": "code",
   "execution_count": 20,
   "metadata": {},
   "outputs": [],
   "source": [
    "tag_histogram = np.zeros(tags.id - 1)\n",
    "for tag_seq in tag_sequences:\n",
    "    for tag_id in tag_seq:\n",
    "        tag_histogram[tag_id - 1] += 1\n",
    "tag_histogram = tag_histogram / np.sum(tag_histogram)"
   ]
  },
  {
   "cell_type": "code",
   "execution_count": 21,
   "metadata": {},
   "outputs": [
    {
     "name": "stdout",
     "output_type": "stream",
     "text": [
      "The overall accuracy of the bilstm model is: 80.43234860496815\n"
     ]
    },
    {
     "name": "stderr",
     "output_type": "stream",
     "text": [
      "C:\\Users\\Inderjeet\\anaconda3\\lib\\site-packages\\ipykernel_launcher.py:242: RuntimeWarning: invalid value encountered in long_scalars\n"
     ]
    },
    {
     "data": {
      "image/png": "[encoded data removed]",
      "text/plain": [
       "<Figure size 1440x1440 with 2 Axes>"
      ]
     },
     "metadata": {
      "needs_background": "light"
     },
     "output_type": "display_data"
    },
    {
     "data": {
      "image/png": "[encoded data removed]",
      "text/plain": [
       "<Figure size 432x288 with 1 Axes>"
      ]
     },
     "metadata": {
      "needs_background": "light"
     },
     "output_type": "display_data"
    }
   ],
   "source": [
    "analyze_confusion(confusion_matrix.to('cpu').numpy(), tag_histogram, tags, data='test')"
   ]
  },
  {
   "cell_type": "code",
   "execution_count": 10,
   "metadata": {},
   "outputs": [
    {
     "name": "stderr",
     "output_type": "stream",
     "text": [
      "  0%|          | 1/5097 [00:00<26:05,  3.26it/s]"
     ]
    },
    {
     "name": "stdout",
     "output_type": "stream",
     "text": [
      "Epoch 0, Iteration 0: 2.6509718894958496\n"
     ]
    },
    {
     "name": "stderr",
     "output_type": "stream",
     "text": [
      " 98%|█████████▊| 5001/5097 [24:31<00:22,  4.31it/s]"
     ]
    },
    {
     "name": "stdout",
     "output_type": "stream",
     "text": [
      "Epoch 0, Iteration 45000: 0.6000776290893555\n"
     ]
    },
    {
     "name": "stderr",
     "output_type": "stream",
     "text": [
      "100%|██████████| 5097/5097 [25:00<00:00,  3.40it/s]\n",
      "  0%|          | 1/5097 [00:00<30:09,  2.82it/s]"
     ]
    },
    {
     "name": "stdout",
     "output_type": "stream",
     "text": [
      "Epoch 1, Iteration 0: 0.5956970453262329\n"
     ]
    },
    {
     "name": "stderr",
     "output_type": "stream",
     "text": [
      " 98%|█████████▊| 5002/5097 [29:03<00:16,  5.94it/s]"
     ]
    },
    {
     "name": "stdout",
     "output_type": "stream",
     "text": [
      "Epoch 1, Iteration 45000: 0.443499356508255\n"
     ]
    },
    {
     "name": "stderr",
     "output_type": "stream",
     "text": [
      "100%|██████████| 5097/5097 [30:07<00:00,  2.82it/s]\n",
      "  0%|          | 1/5097 [00:00<22:01,  3.86it/s]"
     ]
    },
    {
     "name": "stdout",
     "output_type": "stream",
     "text": [
      "Epoch 2, Iteration 0: 0.46761536598205566\n"
     ]
    },
    {
     "name": "stderr",
     "output_type": "stream",
     "text": [
      " 98%|█████████▊| 5001/5097 [21:18<00:15,  6.06it/s] "
     ]
    },
    {
     "name": "stdout",
     "output_type": "stream",
     "text": [
      "Epoch 2, Iteration 45000: 0.39931073784828186\n"
     ]
    },
    {
     "name": "stderr",
     "output_type": "stream",
     "text": [
      "100%|██████████| 5097/5097 [21:41<00:00,  3.92it/s]\n",
      "  0%|          | 1/5097 [00:00<28:58,  2.93it/s]"
     ]
    },
    {
     "name": "stdout",
     "output_type": "stream",
     "text": [
      "Epoch 0, Iteration 0: 2.52113938331604\n"
     ]
    },
    {
     "name": "stderr",
     "output_type": "stream",
     "text": [
      " 98%|█████████▊| 5002/5097 [19:29<00:16,  5.73it/s]"
     ]
    },
    {
     "name": "stdout",
     "output_type": "stream",
     "text": [
      "Epoch 0, Iteration 45000: 0.6468234062194824\n"
     ]
    },
    {
     "name": "stderr",
     "output_type": "stream",
     "text": [
      "100%|██████████| 5097/5097 [19:52<00:00,  4.28it/s]\n",
      "  0%|          | 1/5097 [00:00<31:20,  2.71it/s]"
     ]
    },
    {
     "name": "stdout",
     "output_type": "stream",
     "text": [
      "Epoch 1, Iteration 0: 0.5873337984085083\n"
     ]
    },
    {
     "name": "stderr",
     "output_type": "stream",
     "text": [
      " 98%|█████████▊| 5002/5097 [19:34<00:16,  5.65it/s]"
     ]
    },
    {
     "name": "stdout",
     "output_type": "stream",
     "text": [
      "Epoch 1, Iteration 45000: 0.5890250205993652\n"
     ]
    },
    {
     "name": "stderr",
     "output_type": "stream",
     "text": [
      "100%|██████████| 5097/5097 [19:56<00:00,  4.26it/s]\n",
      "  0%|          | 1/5097 [00:00<33:53,  2.51it/s]"
     ]
    },
    {
     "name": "stdout",
     "output_type": "stream",
     "text": [
      "Epoch 2, Iteration 0: 0.4281282126903534\n"
     ]
    },
    {
     "name": "stderr",
     "output_type": "stream",
     "text": [
      " 98%|█████████▊| 5002/5097 [19:39<00:16,  5.68it/s]"
     ]
    },
    {
     "name": "stdout",
     "output_type": "stream",
     "text": [
      "Epoch 2, Iteration 45000: 0.5017830729484558\n"
     ]
    },
    {
     "name": "stderr",
     "output_type": "stream",
     "text": [
      "100%|██████████| 5097/5097 [20:01<00:00,  4.24it/s]\n",
      "  0%|          | 1/5097 [00:00<22:58,  3.70it/s]"
     ]
    },
    {
     "name": "stdout",
     "output_type": "stream",
     "text": [
      "Epoch 0, Iteration 0: 2.5651838779449463\n"
     ]
    },
    {
     "name": "stderr",
     "output_type": "stream",
     "text": [
      " 98%|█████████▊| 5001/5097 [20:58<00:22,  4.25it/s]"
     ]
    },
    {
     "name": "stdout",
     "output_type": "stream",
     "text": [
      "Epoch 0, Iteration 45000: 0.6162698268890381\n"
     ]
    },
    {
     "name": "stderr",
     "output_type": "stream",
     "text": [
      "100%|██████████| 5097/5097 [21:23<00:00,  3.97it/s]\n",
      "  0%|          | 1/5097 [00:00<23:48,  3.57it/s]"
     ]
    },
    {
     "name": "stdout",
     "output_type": "stream",
     "text": [
      "Epoch 1, Iteration 0: 0.5395935773849487\n"
     ]
    },
    {
     "name": "stderr",
     "output_type": "stream",
     "text": [
      " 98%|█████████▊| 5001/5097 [20:38<00:19,  4.90it/s]"
     ]
    },
    {
     "name": "stdout",
     "output_type": "stream",
     "text": [
      "Epoch 1, Iteration 45000: 0.4175141155719757\n"
     ]
    },
    {
     "name": "stderr",
     "output_type": "stream",
     "text": [
      "100%|██████████| 5097/5097 [21:01<00:00,  4.04it/s]\n",
      "  0%|          | 1/5097 [00:00<22:57,  3.70it/s]"
     ]
    },
    {
     "name": "stdout",
     "output_type": "stream",
     "text": [
      "Epoch 2, Iteration 0: 0.4297086000442505\n"
     ]
    },
    {
     "name": "stderr",
     "output_type": "stream",
     "text": [
      " 98%|█████████▊| 5002/5097 [19:23<00:19,  4.80it/s]"
     ]
    },
    {
     "name": "stdout",
     "output_type": "stream",
     "text": [
      "Epoch 2, Iteration 45000: 0.4446398913860321\n"
     ]
    },
    {
     "name": "stderr",
     "output_type": "stream",
     "text": [
      "100%|██████████| 5097/5097 [19:46<00:00,  4.30it/s]\n",
      "  0%|          | 1/5097 [00:00<20:44,  4.09it/s]"
     ]
    },
    {
     "name": "stdout",
     "output_type": "stream",
     "text": [
      "Epoch 0, Iteration 0: 2.5730066299438477\n"
     ]
    },
    {
     "name": "stderr",
     "output_type": "stream",
     "text": [
      " 98%|█████████▊| 5002/5097 [19:54<00:15,  6.32it/s]"
     ]
    },
    {
     "name": "stdout",
     "output_type": "stream",
     "text": [
      "Epoch 0, Iteration 45000: 0.7073525190353394\n"
     ]
    },
    {
     "name": "stderr",
     "output_type": "stream",
     "text": [
      "100%|██████████| 5097/5097 [20:19<00:00,  4.18it/s]\n",
      "  0%|          | 1/5097 [00:00<25:55,  3.28it/s]"
     ]
    },
    {
     "name": "stdout",
     "output_type": "stream",
     "text": [
      "Epoch 1, Iteration 0: 0.549323558807373\n"
     ]
    },
    {
     "name": "stderr",
     "output_type": "stream",
     "text": [
      " 15%|█▍        | 750/5097 [03:05<19:58,  3.63it/s]"
     ]
    },
    {
     "ename": "RuntimeError",
     "evalue": "transform: failed to synchronize: cudaErrorLaunchFailure: unspecified launch failure",
     "output_type": "error",
     "traceback": [
      "\u001b[1;31m---------------------------------------------------------------------------\u001b[0m",
      "\u001b[1;31mRuntimeError\u001b[0m                              Traceback (most recent call last)",
      "\u001b[1;32m<ipython-input-10-89464e90850d>\u001b[0m in \u001b[0;36m<module>\u001b[1;34m\u001b[0m\n\u001b[0;32m     46\u001b[0m                 \u001b[1;31m# cross entropy loss computation\u001b[0m\u001b[1;33m\u001b[0m\u001b[1;33m\u001b[0m\u001b[1;33m\u001b[0m\u001b[0m\n\u001b[0;32m     47\u001b[0m                 \u001b[0mce_loss\u001b[0m \u001b[1;33m=\u001b[0m \u001b[0mcnnLstm\u001b[0m\u001b[1;33m.\u001b[0m\u001b[0mcross_entropy_loss\u001b[0m\u001b[1;33m(\u001b[0m\u001b[0mword_sequences_train_minibatch\u001b[0m\u001b[1;33m,\u001b[0m \u001b[0mtag_tensor\u001b[0m\u001b[1;33m)\u001b[0m\u001b[1;33m\u001b[0m\u001b[1;33m\u001b[0m\u001b[0m\n\u001b[1;32m---> 48\u001b[1;33m                 \u001b[0mce_loss\u001b[0m\u001b[1;33m.\u001b[0m\u001b[0mbackward\u001b[0m\u001b[1;33m(\u001b[0m\u001b[1;33m)\u001b[0m\u001b[1;33m\u001b[0m\u001b[1;33m\u001b[0m\u001b[0m\n\u001b[0m\u001b[0;32m     49\u001b[0m                 \u001b[0moptimizer\u001b[0m\u001b[1;33m.\u001b[0m\u001b[0mstep\u001b[0m\u001b[1;33m(\u001b[0m\u001b[1;33m)\u001b[0m\u001b[1;33m\u001b[0m\u001b[1;33m\u001b[0m\u001b[0m\n\u001b[0;32m     50\u001b[0m \u001b[1;33m\u001b[0m\u001b[0m\n",
      "\u001b[1;32m~\\anaconda3\\lib\\site-packages\\torch\\tensor.py\u001b[0m in \u001b[0;36mbackward\u001b[1;34m(self, gradient, retain_graph, create_graph)\u001b[0m\n\u001b[0;32m    183\u001b[0m                 \u001b[0mproducts\u001b[0m\u001b[1;33m.\u001b[0m \u001b[0mDefaults\u001b[0m \u001b[0mto\u001b[0m\u001b[0;31m \u001b[0m\u001b[0;31m`\u001b[0m\u001b[0;31m`\u001b[0m\u001b[1;32mFalse\u001b[0m\u001b[0;31m`\u001b[0m\u001b[0;31m`\u001b[0m\u001b[1;33m.\u001b[0m\u001b[1;33m\u001b[0m\u001b[1;33m\u001b[0m\u001b[0m\n\u001b[0;32m    184\u001b[0m         \"\"\"\n\u001b[1;32m--> 185\u001b[1;33m         \u001b[0mtorch\u001b[0m\u001b[1;33m.\u001b[0m\u001b[0mautograd\u001b[0m\u001b[1;33m.\u001b[0m\u001b[0mbackward\u001b[0m\u001b[1;33m(\u001b[0m\u001b[0mself\u001b[0m\u001b[1;33m,\u001b[0m \u001b[0mgradient\u001b[0m\u001b[1;33m,\u001b[0m \u001b[0mretain_graph\u001b[0m\u001b[1;33m,\u001b[0m \u001b[0mcreate_graph\u001b[0m\u001b[1;33m)\u001b[0m\u001b[1;33m\u001b[0m\u001b[1;33m\u001b[0m\u001b[0m\n\u001b[0m\u001b[0;32m    186\u001b[0m \u001b[1;33m\u001b[0m\u001b[0m\n\u001b[0;32m    187\u001b[0m     \u001b[1;32mdef\u001b[0m \u001b[0mregister_hook\u001b[0m\u001b[1;33m(\u001b[0m\u001b[0mself\u001b[0m\u001b[1;33m,\u001b[0m \u001b[0mhook\u001b[0m\u001b[1;33m)\u001b[0m\u001b[1;33m:\u001b[0m\u001b[1;33m\u001b[0m\u001b[1;33m\u001b[0m\u001b[0m\n",
      "\u001b[1;32m~\\anaconda3\\lib\\site-packages\\torch\\autograd\\__init__.py\u001b[0m in \u001b[0;36mbackward\u001b[1;34m(tensors, grad_tensors, retain_graph, create_graph, grad_variables)\u001b[0m\n\u001b[0;32m    125\u001b[0m     Variable._execution_engine.run_backward(\n\u001b[0;32m    126\u001b[0m         \u001b[0mtensors\u001b[0m\u001b[1;33m,\u001b[0m \u001b[0mgrad_tensors\u001b[0m\u001b[1;33m,\u001b[0m \u001b[0mretain_graph\u001b[0m\u001b[1;33m,\u001b[0m \u001b[0mcreate_graph\u001b[0m\u001b[1;33m,\u001b[0m\u001b[1;33m\u001b[0m\u001b[1;33m\u001b[0m\u001b[0m\n\u001b[1;32m--> 127\u001b[1;33m         allow_unreachable=True)  # allow_unreachable flag\n\u001b[0m\u001b[0;32m    128\u001b[0m \u001b[1;33m\u001b[0m\u001b[0m\n\u001b[0;32m    129\u001b[0m \u001b[1;33m\u001b[0m\u001b[0m\n",
      "\u001b[1;31mRuntimeError\u001b[0m: transform: failed to synchronize: cudaErrorLaunchFailure: unspecified launch failure"
     ]
    }
   ],
   "source": [
    "# confusion matrix initialization\n",
    "confusion_matrix_train = torch.zeros(tags.id - 1, tags.id - 1, dtype=torch.int32, device=device)\n",
    "confusion_matrix_test = torch.zeros(tags.id - 1, tags.id - 1, dtype=torch.int32, device=device)\n",
    "\n",
    "# Partitioning the dataset\n",
    "corpus = np.array(brown.tagged_sents(tagset='universal'))\n",
    "kf = KFold(n_splits=5, shuffle=True)\n",
    "kf.get_n_splits(corpus)\n",
    "\n",
    "# KFOLD Starts\n",
    "for train_index, test_index in kf.split(corpus):\n",
    "    \n",
    "    # dataset parsing\n",
    "    train_corpus = corpus[train_index]\n",
    "    test_corpus = corpus[test_index]\n",
    "    word_sequences_train = [[word for (word, tag) in sent] for sent in train_corpus]\n",
    "    tag_sequences_train = [[tags.fetch(tag, 'val') for (word, tag) in sent] for sent in train_corpus]\n",
    "    word_sequences_test = [[word for (word, tag) in sent] for sent in test_corpus]\n",
    "    tag_sequences_test = [[tags.fetch(tag, 'val') for (word, tag) in sent] for sent in test_corpus]\n",
    "    \n",
    "    # model initialization\n",
    "    encoder = Encoder(characters, words, word_embedding).to(device)\n",
    "    bilstm = BilstmCustom().to(device)\n",
    "    cnnLstm = CnnLstm(encoder, bilstm, tags).to(device)\n",
    "    optimizer = torch.optim.SGD(cnnLstm.parameters(), lr=lr, momentum=momentum)\n",
    "    \n",
    "    # training begins\n",
    "    for epoch in range(min_epoches):\n",
    "        for i in tqdm(range(0, len(word_sequences_train), batch_size - 1)):        \n",
    "            # optimizer gradient flushing\n",
    "            optimizer.zero_grad()\n",
    "\n",
    "            # sampling minibatches\n",
    "            word_sequences_train_minibatch = word_sequences_train[i: i + batch_size]\n",
    "            tag_sequences_train_minibatch = tag_sequences_train[i: i + batch_size]\n",
    "\n",
    "\n",
    "            if len(word_sequences_train_minibatch) == batch_size:\n",
    "                # padding the ground truth\n",
    "                max_seq_len = max([len(tag_seq) for tag_seq in tag_sequences_train_minibatch])\n",
    "                tag_tensor = torch.zeros(len(tag_sequences_train_minibatch), max_seq_len, dtype=torch.long, device=device)\n",
    "                for row_index, tag_seq in enumerate(tag_sequences_train_minibatch):\n",
    "                    for column_index, tag_id in enumerate(tag_seq):\n",
    "                        tag_tensor[row_index, column_index] = tag_id\n",
    "\n",
    "                # cross entropy loss computation\n",
    "                ce_loss = cnnLstm.cross_entropy_loss(word_sequences_train_minibatch, tag_tensor)\n",
    "                ce_loss.backward()\n",
    "                optimizer.step()\n",
    "\n",
    "            # printing the loss\n",
    "            if i % 5000 == 0:\n",
    "                print('Epoch {}, Iteration {}: {}'.format(epoch, i, ce_loss))\n",
    "                \n",
    "    # updating the confusion matrix test\n",
    "    with torch.no_grad():\n",
    "        for i in (range(0, len(word_sequences_test), batch_size)):\n",
    "\n",
    "            # sampling minibatches\n",
    "            word_sequences_test_minibatch = word_sequences_test[i: i + batch_size]\n",
    "            tag_sequences_test_minibatch = tag_sequences_test[i: i + batch_size]\n",
    "\n",
    "            if len(word_sequences_test_minibatch) == batch_size:\n",
    "                # finding the model predictions\n",
    "                output_log_likelihood, _ = cnnLstm.forward(word_sequences_test_minibatch)\n",
    "                _, tag_pred_sequences_minibatch = torch.max(output_log_likelihood, dim=1)\n",
    "\n",
    "                for row_index, seq in enumerate(tag_sequences_test_minibatch):\n",
    "                    for col_index, tag_id in enumerate(seq):\n",
    "                        if tag_id != 0 and tag_pred_sequences_minibatch[row_index, col_index] != 0:\n",
    "                            confusion_matrix_test[tag_pred_sequences_minibatch[row_index, col_index] - 1, tag_id - 1] += 1\n",
    "                        \n",
    "        \n",
    "        # updating the same for train\n",
    "        for i in (range(0, len(word_sequences_train), batch_size)):\n",
    "\n",
    "            # sampling minibatches\n",
    "            word_sequences_train_minibatch = word_sequences_train[i: i + batch_size]\n",
    "            tag_sequences_train_minibatch = tag_sequences_train[i: i + batch_size]\n",
    "\n",
    "            if len(word_sequences_train_minibatch) == batch_size:\n",
    "                # finding the model predictions\n",
    "                output_log_likelihood, _ = cnnLstm.forward(word_sequences_train_minibatch)\n",
    "                _, tag_pred_sequences_minibatch = torch.max(output_log_likelihood, dim=1)\n",
    "\n",
    "                for row_index, seq in enumerate(tag_sequences_train_minibatch):\n",
    "                    for col_index, tag_id in enumerate(seq):\n",
    "                        if tag_id != 0 and tag_pred_sequences_minibatch[row_index, col_index] != 0:\n",
    "                            confusion_matrix_train[tag_pred_sequences_minibatch[row_index, col_index] - 1, tag_id - 1] += 1\n",
    "                            \n",
    "                            \n",
    "    # deleting the models\n",
    "    del encoder\n",
    "    del bilstm\n",
    "    del cnnLstm\n",
    "    del optimizer"
   ]
  },
  {
   "cell_type": "code",
   "execution_count": null,
   "metadata": {},
   "outputs": [],
   "source": [
    "tag_histogram = np.zeros(tags.id - 1)\n",
    "for tag_seq in tag_sequences:\n",
    "    for tag_id in tag_seq:\n",
    "        tag_histogram[tag_id - 1] += 1\n",
    "tag_histogram = tag_histogram / np.sum(tag_histogram)"
   ]
  },
  {
   "cell_type": "code",
   "execution_count": null,
   "metadata": {},
   "outputs": [],
   "source": [
    "analyze_confusion(confusion_matrix_test.to('cpu').numpy(), tag_histogram, tags, data='test')"
   ]
  },
  {
   "cell_type": "code",
   "execution_count": null,
   "metadata": {},
   "outputs": [],
   "source": []
  },
  {
   "cell_type": "code",
   "execution_count": null,
   "metadata": {},
   "outputs": [],
   "source": []
  }
 ],
 "metadata": {
  "kernelspec": {
   "display_name": "Python 3",
   "language": "python",
   "name": "python3"
  },
  "language_info": {
   "codemirror_mode": {
    "name": "ipython",
    "version": 3
   },
   "file_extension": ".py",
   "mimetype": "text/x-python",
   "name": "python",
   "nbconvert_exporter": "python",
   "pygments_lexer": "ipython3",
   "version": "3.7.6"
  }
 },
 "nbformat": 4,
 "nbformat_minor": 4
}
